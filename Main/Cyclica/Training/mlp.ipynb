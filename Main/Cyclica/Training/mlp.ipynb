{
 "cells": [
  {
   "attachments": {},
   "cell_type": "markdown",
   "metadata": {},
   "source": [
    "# 1. Important Libraries & Data"
   ]
  },
  {
   "cell_type": "code",
   "execution_count": 2,
   "metadata": {},
   "outputs": [],
   "source": [
    "import numpy as np\n",
    "import pandas as pd\n",
    "import matplotlib.pyplot as plt\n",
    "from sklearn.model_selection import train_test_split, validation_curve\n",
    "from sklearn.neural_network import MLPClassifier\n",
    "from sklearn.metrics import confusion_matrix\n",
    "from sklearn.model_selection import ShuffleSplit"
   ]
  },
  {
   "attachments": {},
   "cell_type": "markdown",
   "metadata": {},
   "source": [
    "# 2. Train Model(s)"
   ]
  },
  {
   "attachments": {},
   "cell_type": "markdown",
   "metadata": {},
   "source": [
    "## 2.2 Using All Features"
   ]
  },
  {
   "cell_type": "code",
   "execution_count": 3,
   "metadata": {},
   "outputs": [
    {
     "name": "stdout",
     "output_type": "stream",
     "text": [
      "The shape for X_train is (835648, 57) and shape for X_test is (92868, 57).\n"
     ]
    }
   ],
   "source": [
    "# Using all features\n",
    "train_with20 = pd.read_csv(\"../DataSet/with20_train.csv\") # get trainig data\n",
    "valid_with20 = pd.read_csv(\"../DataSet/with20_valid.csv\") # get validation data\n",
    "\n",
    "X_with20_train, y_with20_train = train_with20.iloc[:,:-1],train_with20.iloc[:,-1] # split the y from other columns\n",
    "X_with20_valid, y_with20_valid = valid_with20.iloc[:,:-1],valid_with20.iloc[:,-1]\n",
    "\n",
    "print(f\"The shape for X_train is {X_with20_train.shape} and shape for X_test is {X_with20_valid.shape}.\")"
   ]
  },
  {
   "cell_type": "code",
   "execution_count": 5,
   "metadata": {},
   "outputs": [
    {
     "data": {
      "text/html": [
       "<style>#sk-container-id-2 {color: black;background-color: white;}#sk-container-id-2 pre{padding: 0;}#sk-container-id-2 div.sk-toggleable {background-color: white;}#sk-container-id-2 label.sk-toggleable__label {cursor: pointer;display: block;width: 100%;margin-bottom: 0;padding: 0.3em;box-sizing: border-box;text-align: center;}#sk-container-id-2 label.sk-toggleable__label-arrow:before {content: \"▸\";float: left;margin-right: 0.25em;color: #696969;}#sk-container-id-2 label.sk-toggleable__label-arrow:hover:before {color: black;}#sk-container-id-2 div.sk-estimator:hover label.sk-toggleable__label-arrow:before {color: black;}#sk-container-id-2 div.sk-toggleable__content {max-height: 0;max-width: 0;overflow: hidden;text-align: left;background-color: #f0f8ff;}#sk-container-id-2 div.sk-toggleable__content pre {margin: 0.2em;color: black;border-radius: 0.25em;background-color: #f0f8ff;}#sk-container-id-2 input.sk-toggleable__control:checked~div.sk-toggleable__content {max-height: 200px;max-width: 100%;overflow: auto;}#sk-container-id-2 input.sk-toggleable__control:checked~label.sk-toggleable__label-arrow:before {content: \"▾\";}#sk-container-id-2 div.sk-estimator input.sk-toggleable__control:checked~label.sk-toggleable__label {background-color: #d4ebff;}#sk-container-id-2 div.sk-label input.sk-toggleable__control:checked~label.sk-toggleable__label {background-color: #d4ebff;}#sk-container-id-2 input.sk-hidden--visually {border: 0;clip: rect(1px 1px 1px 1px);clip: rect(1px, 1px, 1px, 1px);height: 1px;margin: -1px;overflow: hidden;padding: 0;position: absolute;width: 1px;}#sk-container-id-2 div.sk-estimator {font-family: monospace;background-color: #f0f8ff;border: 1px dotted black;border-radius: 0.25em;box-sizing: border-box;margin-bottom: 0.5em;}#sk-container-id-2 div.sk-estimator:hover {background-color: #d4ebff;}#sk-container-id-2 div.sk-parallel-item::after {content: \"\";width: 100%;border-bottom: 1px solid gray;flex-grow: 1;}#sk-container-id-2 div.sk-label:hover label.sk-toggleable__label {background-color: #d4ebff;}#sk-container-id-2 div.sk-serial::before {content: \"\";position: absolute;border-left: 1px solid gray;box-sizing: border-box;top: 0;bottom: 0;left: 50%;z-index: 0;}#sk-container-id-2 div.sk-serial {display: flex;flex-direction: column;align-items: center;background-color: white;padding-right: 0.2em;padding-left: 0.2em;position: relative;}#sk-container-id-2 div.sk-item {position: relative;z-index: 1;}#sk-container-id-2 div.sk-parallel {display: flex;align-items: stretch;justify-content: center;background-color: white;position: relative;}#sk-container-id-2 div.sk-item::before, #sk-container-id-2 div.sk-parallel-item::before {content: \"\";position: absolute;border-left: 1px solid gray;box-sizing: border-box;top: 0;bottom: 0;left: 50%;z-index: -1;}#sk-container-id-2 div.sk-parallel-item {display: flex;flex-direction: column;z-index: 1;position: relative;background-color: white;}#sk-container-id-2 div.sk-parallel-item:first-child::after {align-self: flex-end;width: 50%;}#sk-container-id-2 div.sk-parallel-item:last-child::after {align-self: flex-start;width: 50%;}#sk-container-id-2 div.sk-parallel-item:only-child::after {width: 0;}#sk-container-id-2 div.sk-dashed-wrapped {border: 1px dashed gray;margin: 0 0.4em 0.5em 0.4em;box-sizing: border-box;padding-bottom: 0.4em;background-color: white;}#sk-container-id-2 div.sk-label label {font-family: monospace;font-weight: bold;display: inline-block;line-height: 1.2em;}#sk-container-id-2 div.sk-label-container {text-align: center;}#sk-container-id-2 div.sk-container {/* jupyter's `normalize.less` sets `[hidden] { display: none; }` but bootstrap.min.css set `[hidden] { display: none !important; }` so we also need the `!important` here to be able to override the default hidden behavior on the sphinx rendered scikit-learn.org. See: https://github.com/scikit-learn/scikit-learn/issues/21755 */display: inline-block !important;position: relative;}#sk-container-id-2 div.sk-text-repr-fallback {display: none;}</style><div id=\"sk-container-id-2\" class=\"sk-top-container\"><div class=\"sk-text-repr-fallback\"><pre>MLPClassifier()</pre><b>In a Jupyter environment, please rerun this cell to show the HTML representation or trust the notebook. <br />On GitHub, the HTML representation is unable to render, please try loading this page with nbviewer.org.</b></div><div class=\"sk-container\" hidden><div class=\"sk-item\"><div class=\"sk-estimator sk-toggleable\"><input class=\"sk-toggleable__control sk-hidden--visually\" id=\"sk-estimator-id-2\" type=\"checkbox\" checked><label for=\"sk-estimator-id-2\" class=\"sk-toggleable__label sk-toggleable__label-arrow\">MLPClassifier</label><div class=\"sk-toggleable__content\"><pre>MLPClassifier()</pre></div></div></div></div></div>"
      ],
      "text/plain": [
       "MLPClassifier()"
      ]
     },
     "execution_count": 5,
     "metadata": {},
     "output_type": "execute_result"
    }
   ],
   "source": [
    "clf = MLPClassifier()\n",
    "clf.fit(X_with20_train, y_with20_train)"
   ]
  },
  {
   "cell_type": "code",
   "execution_count": 6,
   "metadata": {},
   "outputs": [
    {
     "name": "stdout",
     "output_type": "stream",
     "text": [
      "Train Accuracy = 0.9987973405070077\n",
      "Test Accuracy = 0.48322350002153597\n"
     ]
    }
   ],
   "source": [
    "print(f'Train Accuracy = {clf.score(X_with20_train, y_with20_train)}')\n",
    "print(f'Test Accuracy = {clf.score(X_with20_valid, y_with20_valid)}')"
   ]
  },
  {
   "attachments": {},
   "cell_type": "markdown",
   "metadata": {},
   "source": [
    "## 2.2 Using Four Categories"
   ]
  },
  {
   "cell_type": "code",
   "execution_count": 7,
   "metadata": {},
   "outputs": [
    {
     "name": "stdout",
     "output_type": "stream",
     "text": [
      "The shape for X_train is (835648, 34) and shape for X_test is (92868, 34).\n"
     ]
    }
   ],
   "source": [
    "# Using all features\n",
    "train_with4 = pd.read_csv(\"../DataSet/with4_train.csv\") # get trainig data\n",
    "valid_with4 = pd.read_csv(\"../DataSet/with4_valid.csv\") # get validation data\n",
    "\n",
    "X_with4_train, y_with4_train = train_with4.iloc[:,:-1],train_with4.iloc[:,-1] # split the y from other columns\n",
    "X_with4_valid, y_with4_valid = valid_with4.iloc[:,:-1],valid_with4.iloc[:,-1]\n",
    "\n",
    "print(f\"The shape for X_train is {X_with4_train.shape} and shape for X_test is {X_with4_valid.shape}.\")"
   ]
  },
  {
   "cell_type": "code",
   "execution_count": 8,
   "metadata": {},
   "outputs": [],
   "source": [
    "clf2 = MLPClassifier()\n",
    "clf2.fit(X_with4_train, y_with4_train)\n",
    "print(f'Train Accuracy = {clf2.score(X_with4_train, y_with4_train)}')\n",
    "print(f'Test Accuracy = {clf2.score(X_with4_valid, y_with4_valid)}')"
   ]
  },
  {
   "attachments": {},
   "cell_type": "markdown",
   "metadata": {},
   "source": [
    "Summary for model 2 is given below. The function credit to https://www.kaggle.com/code/jonathankristanto/mnist-classification-using-multilayer-perceptron?scriptVersionId=80662744&cellId=22"
   ]
  },
  {
   "cell_type": "code",
   "execution_count": null,
   "metadata": {},
   "outputs": [
    {
     "name": "stdout",
     "output_type": "stream",
     "text": [
      "Weights\n",
      " [array([[ 1.91919607e-003, -4.42542353e-002, -3.82181029e-315,\n",
      "        -8.41570348e-002,  3.49304411e-315,  4.19816280e-316,\n",
      "         2.75678054e-001,  3.87121859e-003,  1.49551538e-001,\n",
      "        -1.74239648e-315,  3.76456191e-003,  2.73789309e-315,\n",
      "         2.09673524e-001,  1.83014694e-091, -4.25473073e-315,\n",
      "         2.25051142e-001,  3.29582973e-001,  3.32431849e-001,\n",
      "        -6.11862175e-316, -6.98464986e-002,  1.81601942e-098,\n",
      "        -2.77560410e-072,  3.18935601e-001,  1.39888972e-001,\n",
      "         8.68802087e-003, -8.99315528e-025, -4.04808778e-007,\n",
      "         4.99183409e-083,  1.32190423e-093,  3.54292308e-001,\n",
      "         3.29650474e-001,  2.24423906e-001,  1.21462091e-001,\n",
      "         3.83795687e-002, -3.12187557e-316, -1.13068881e-315,\n",
      "        -2.16555558e-316, -1.61002535e-315, -2.31997096e-315,\n",
      "        -2.73086655e-315,  2.39046917e-001, -1.17558743e-315,\n",
      "         1.75707241e-001,  1.68803307e-315, -4.05358888e-315,\n",
      "        -6.09853290e-316, -1.24312251e-079,  1.90663127e-001,\n",
      "         2.40143427e-084, -6.54467847e-316,  2.87698993e-001,\n",
      "        -1.33282752e-049, -3.04142378e-315,  7.08845054e-065,\n",
      "         3.28074497e-001,  5.13292705e-317, -3.55812091e-316,\n",
      "        -1.22386490e-033, -2.17483507e-002,  1.40971238e-001,\n",
      "         8.49061328e-316,  2.01536364e-001, -6.66529844e-078,\n",
      "         1.32667548e-001, -4.78303561e-003,  1.50291983e-316,\n",
      "         1.53496775e-001, -6.85047872e-116, -9.27681238e-316,\n",
      "        -3.71711487e-315,  1.59277479e-001,  3.70550064e-315,\n",
      "         3.32003410e-001, -1.06336206e-315, -5.47383279e-316,\n",
      "        -2.70980632e-315,  1.42298000e-315,  1.99558620e-002,\n",
      "         4.28421568e-002,  2.74488953e-001,  6.59936948e-003,\n",
      "         2.29645405e-001, -3.01954927e-315, -3.79540122e-002,\n",
      "         8.27132845e-002, -4.76660184e-051, -8.22479976e-022,\n",
      "         2.76097654e-315, -1.37021845e-002,  4.31869994e-317,\n",
      "         9.44129655e-005, -1.51203770e-315, -6.02265913e-110,\n",
      "         5.32178532e-316,  3.24885902e-001,  8.81214258e-005,\n",
      "         3.37062243e-001, -1.21631320e-315, -4.40827788e-003,\n",
      "         1.24076259e-001],\n",
      "       [ 1.22636682e-001, -4.40832967e-003, -2.61342901e-315,\n",
      "        -4.68267161e-002,  1.30007848e-315, -4.62116481e-316,\n",
      "        -3.59310665e-003,  1.86118259e-004,  5.02386497e-002,\n",
      "        -1.25434244e-315,  2.02524295e-001, -3.51141093e-315,\n",
      "         1.02286871e-001,  1.65889776e-143,  1.95367069e-316,\n",
      "         3.11650369e-001,  2.47657494e-001,  4.83057205e-002,\n",
      "        -4.53497389e-315,  3.03157364e-002,  1.33624574e-148,\n",
      "         1.25942462e-004,  9.37146065e-002,  1.59718417e-002,\n",
      "         1.29992106e-001, -3.95840394e-021, -4.16630536e-007,\n",
      "         2.25146795e-046,  1.51551282e-188,  1.06553562e-003,\n",
      "        -9.46148368e-002,  2.53094012e-001,  1.06197849e-001,\n",
      "         1.66295304e-001,  2.85078989e-315,  1.76043881e-315,\n",
      "        -1.64638985e-315, -7.29512896e-316,  1.09464577e-016,\n",
      "        -1.03372696e-315,  1.86519211e-001,  2.84047872e-315,\n",
      "         2.76518144e-001,  7.32379127e-022,  5.95532624e-316,\n",
      "        -5.30406412e-316, -1.28500521e-315,  3.54338295e-001,\n",
      "         2.17653366e-031, -4.60424022e-315,  2.84282019e-001,\n",
      "        -2.87380935e-315, -1.42063605e-049, -3.01427685e-038,\n",
      "         3.32055979e-001,  9.04959411e-316, -4.35041747e-315,\n",
      "        -9.48073149e-017, -1.30118579e-002,  1.49972197e-001,\n",
      "        -1.78346804e-315, -2.57150415e-003,  7.95898212e-007,\n",
      "         2.22436435e-001, -3.18493149e-003,  1.78938241e-315,\n",
      "         1.99477059e-001, -4.78346404e-317,  6.70076310e-316,\n",
      "        -5.47531271e-316,  6.29761209e-002,  5.26855587e-316,\n",
      "         2.51871639e-001, -2.75759422e-315,  2.54535649e-316,\n",
      "        -4.00146809e-315, -1.76173545e-315,  2.28142675e-001,\n",
      "         2.84362324e-001,  1.52526504e-001, -4.93011512e-002,\n",
      "         2.06198468e-001,  1.46818187e-315, -7.03795624e-004,\n",
      "         1.09115268e-001,  4.21966761e-012, -2.57084633e-020,\n",
      "        -9.80533135e-316, -5.32643912e-003,  3.77363908e-001,\n",
      "         1.70442547e-003,  3.47241916e-315,  4.63441617e-315,\n",
      "        -2.35547215e-058, -1.07008685e-316,  8.84696491e-002,\n",
      "         3.32664593e-002,  2.76949264e-315, -2.86570086e-002,\n",
      "        -5.38426416e-002],\n",
      "       [ 8.15606593e-002, -1.34133685e-002,  3.37597052e-316,\n",
      "        -7.47004721e-002,  4.64481438e-315,  4.35352217e-315,\n",
      "         1.81565099e-001, -9.02305142e-316,  5.57417011e-002,\n",
      "        -1.83897551e-315,  1.87024665e-001,  3.58528153e-315,\n",
      "         2.71658122e-001,  5.77881503e-081, -3.18756862e-315,\n",
      "         3.04755381e-001,  5.58311605e-002,  2.66154868e-001,\n",
      "         1.40375322e-315,  1.61059464e-001,  7.99228396e-004,\n",
      "         8.43452400e-004,  3.18639048e-001,  1.94860336e-001,\n",
      "         2.33481962e-001, -3.84034970e-030, -2.31600606e-029,\n",
      "        -3.51056441e-315,  1.14991986e-023,  2.85363655e-001,\n",
      "         1.13643369e-001,  5.31195104e-002, -2.06651030e-002,\n",
      "         2.98227542e-001,  1.03848860e-035,  3.09745315e-315,\n",
      "        -2.02156338e-315, -9.63981486e-316,  1.20362593e-041,\n",
      "        -2.84846661e-315,  6.61381316e-002,  4.74276410e-316,\n",
      "         2.39828106e-001, -5.47137256e-076,  2.12960907e-094,\n",
      "        -3.43003197e-317,  1.56683156e-077,  2.37444934e-001,\n",
      "         1.20458888e-044, -1.96806977e-079, -4.32137475e-002,\n",
      "        -3.64812436e-316,  9.13216187e-078,  3.01839068e-040,\n",
      "         3.41914654e-001, -2.08422679e-315, -3.59419298e-315,\n",
      "        -6.02835229e-024, -2.22862542e-002,  3.77216045e-001,\n",
      "        -1.32540013e-070,  2.18604089e-001, -8.14986771e-013,\n",
      "         1.84986278e-001, -1.12639231e-003, -3.57555365e-315,\n",
      "         1.72881741e-001, -3.36153491e-315, -1.86481569e-315,\n",
      "         7.16870987e-316, -3.24553538e-002,  1.32380299e-315,\n",
      "         1.77970891e-001, -2.33151658e-315,  2.37790844e-023,\n",
      "         1.17445181e-315, -4.23755196e-315, -2.06805288e-002,\n",
      "         2.68929258e-001,  1.04723492e-001, -3.73839187e-002,\n",
      "         1.44891973e-001,  2.71159498e-315,  1.55246964e-001,\n",
      "         1.28556100e-001, -2.09066411e-315, -3.10078396e-004,\n",
      "         1.23558022e-315, -1.19454774e-002, -1.96951585e-315,\n",
      "         7.18274611e-004,  3.46993335e-315, -9.76334837e-316,\n",
      "         1.69118690e-033,  2.91367606e-315, -3.48428842e-002,\n",
      "         1.38612113e-001, -6.20180452e-316, -2.02275768e-002,\n",
      "         2.10859876e-001],\n",
      "       [ 3.10077740e-002, -2.44548577e-003, -3.53307869e-315,\n",
      "        -3.77240783e-002,  2.37291316e-146, -1.68621932e-315,\n",
      "        -3.89009656e-003, -1.06651312e-072,  1.11237270e-001,\n",
      "        -5.94368235e-316,  1.15692444e-001, -2.16279044e-315,\n",
      "        -3.57112415e-002,  1.45523001e-146,  2.43721878e-315,\n",
      "        -3.65286769e-002,  2.90498610e-001,  2.84861519e-001,\n",
      "         3.69930596e-315,  1.82221520e-001, -3.12535906e-056,\n",
      "         1.11193147e-075,  7.85400626e-003,  1.75308349e-001,\n",
      "         5.43859927e-002, -9.53404561e-012, -3.31309674e-008,\n",
      "        -4.77796993e-080,  1.34826188e-090, -6.88205997e-003,\n",
      "         1.40140006e-001,  2.93209288e-001,  2.56202732e-001,\n",
      "         8.51649350e-002,  1.66085173e-315, -1.54048749e-316,\n",
      "         1.98401992e-315,  4.04987192e-315,  1.01339504e-315,\n",
      "         1.26190501e-315,  1.68543249e-001, -2.70581887e-315,\n",
      "         1.80144047e-001,  1.10619020e-316,  8.36609461e-316,\n",
      "        -2.64716702e-316,  3.20960579e-315,  1.35756751e-001,\n",
      "         5.39522611e-066,  6.83829675e-316,  3.22883312e-002,\n",
      "        -2.28499077e-316, -4.45666795e-104, -3.40270572e-234,\n",
      "         1.92880577e-001,  1.55985299e-316, -4.07887834e-315,\n",
      "        -4.01029902e-078, -2.18396552e-002,  3.90207711e-001,\n",
      "         2.91555936e-120,  2.00959514e-001,  6.41372415e-011,\n",
      "         2.34406717e-001, -4.40918591e-004,  3.53564455e-315,\n",
      "         6.39335387e-002, -2.43698429e-315, -4.57566755e-315,\n",
      "         4.46675289e-316,  1.46914452e-003,  1.09292350e-315,\n",
      "         4.06979582e-001,  4.53154320e-315,  3.68960112e-315,\n",
      "         1.34800263e-316,  3.29766507e-315, -2.44099484e-002,\n",
      "         3.19946514e-001,  2.20598121e-001, -4.05434090e-002,\n",
      "         7.00131826e-002,  1.56203693e-090,  2.55378209e-001,\n",
      "         3.20812186e-001, -6.13757041e-316,  8.25599144e-004,\n",
      "        -6.01000957e-316, -5.05659953e-003,  3.44872417e-001,\n",
      "         1.86572076e-004,  1.24972043e-130,  1.66250946e-315,\n",
      "        -1.20490904e-315, -1.04862853e-315,  2.51275079e-001,\n",
      "         7.42198737e-003, -1.99344149e-315, -5.01132944e-003,\n",
      "         7.57408573e-002]]), array([[-2.51570914e-001],\n",
      "       [ 8.40993186e-006],\n",
      "       [-3.84381208e-315],\n",
      "       [-5.30823848e-005],\n",
      "       [ 1.04990690e-215],\n",
      "       [-1.14675539e-315],\n",
      "       [-2.54968781e-001],\n",
      "       [ 1.10671981e-004],\n",
      "       [-3.26930746e-001],\n",
      "       [ 2.08807846e-315],\n",
      "       [-2.81151715e-001],\n",
      "       [-4.13210183e-315],\n",
      "       [-2.63286112e-001],\n",
      "       [ 2.17240339e-018],\n",
      "       [-1.56071668e-315],\n",
      "       [-2.15035369e-001],\n",
      "       [-3.28736914e-001],\n",
      "       [-7.38720355e-002],\n",
      "       [-3.76389200e-315],\n",
      "       [-2.64810947e-001],\n",
      "       [ 1.54806160e-005],\n",
      "       [-3.53465683e-006],\n",
      "       [-1.40015758e-001],\n",
      "       [-1.30143469e-001],\n",
      "       [-2.46512391e-001],\n",
      "       [-3.69926678e-005],\n",
      "       [ 3.59943388e-003],\n",
      "       [ 3.74708602e-012],\n",
      "       [ 7.35277275e-017],\n",
      "       [-9.39633568e-002],\n",
      "       [-2.74126738e-001],\n",
      "       [-9.04030705e-002],\n",
      "       [-2.69142519e-001],\n",
      "       [-1.61195870e-001],\n",
      "       [ 7.02321433e-106],\n",
      "       [-3.75589587e-315],\n",
      "       [ 1.17327161e-315],\n",
      "       [-2.13012595e-315],\n",
      "       [ 6.93833271e-041],\n",
      "       [-6.13190056e-316],\n",
      "       [-1.26276368e-001],\n",
      "       [-3.78459476e-315],\n",
      "       [-2.10464893e-001],\n",
      "       [ 4.15491158e-072],\n",
      "       [-7.54861749e-159],\n",
      "       [-1.38363612e-315],\n",
      "       [ 1.38921264e-032],\n",
      "       [-1.64748080e-001],\n",
      "       [ 8.22719835e-008],\n",
      "       [-9.19120258e-155],\n",
      "       [-2.60857246e-001],\n",
      "       [-1.67607323e-069],\n",
      "       [ 4.23089857e-015],\n",
      "       [ 3.36349054e-009],\n",
      "       [-1.76655956e-001],\n",
      "       [ 1.65061177e-315],\n",
      "       [ 1.41868319e-315],\n",
      "       [ 2.15701319e-005],\n",
      "       [ 1.23595205e-003],\n",
      "       [-1.46531705e-001],\n",
      "       [-1.33246056e-084],\n",
      "       [-1.77378978e-001],\n",
      "       [ 1.67803381e-009],\n",
      "       [-2.51612483e-001],\n",
      "       [ 4.64211859e-003],\n",
      "       [ 3.85284511e-315],\n",
      "       [-1.48187434e-001],\n",
      "       [ 1.08665196e-256],\n",
      "       [-1.35600404e-315],\n",
      "       [-2.17261806e-316],\n",
      "       [-2.44825419e-001],\n",
      "       [ 1.71002795e-316],\n",
      "       [-1.54852765e-001],\n",
      "       [ 1.92731761e-315],\n",
      "       [ 7.84907418e-036],\n",
      "       [-4.44107162e-315],\n",
      "       [ 9.74656975e-316],\n",
      "       [-6.63271761e-002],\n",
      "       [-2.62725624e-001],\n",
      "       [-3.94719263e-001],\n",
      "       [-2.50763800e-002],\n",
      "       [-1.69842773e-001],\n",
      "       [ 3.35639595e-189],\n",
      "       [-3.13738545e-001],\n",
      "       [-2.73274215e-001],\n",
      "       [ 6.08015924e-018],\n",
      "       [-2.63828423e-004],\n",
      "       [-1.57629569e-317],\n",
      "       [ 7.87404676e-003],\n",
      "       [-2.84256333e-001],\n",
      "       [ 1.92868217e-005],\n",
      "       [ 1.28771562e-159],\n",
      "       [-1.40832414e-208],\n",
      "       [ 5.28536859e-043],\n",
      "       [-2.49593142e-001],\n",
      "       [-1.93450051e-001],\n",
      "       [-3.16005726e-001],\n",
      "       [-3.80197362e-315],\n",
      "       [-5.11259361e-004],\n",
      "       [-1.28048229e-001]])]\n",
      "Number of layer :  3\n",
      "Number of output :  1\n"
     ]
    }
   ],
   "source": [
    "print(\"Weights\\n\", clf2.coefs_)\n",
    "print(\"Number of layer : \", clf2.n_layers_)\n",
    "print(\"Number of output : \", clf2.n_outputs_)"
   ]
  },
  {
   "cell_type": "code",
   "execution_count": null,
   "metadata": {},
   "outputs": [],
   "source": [
    "import numpy as np\n",
    "import matplotlib.pyplot as plt\n",
    "from sklearn.model_selection import learning_curve\n",
    "from sklearn.model_selection import ShuffleSplit\n",
    "\n",
    "def plot_learning_curve(estimator, title, X, y, axes=None, ylim=None, cv=None,\n",
    "                        n_jobs=None, train_sizes=np.linspace(.1, 1.0, 5)):\n",
    "    if axes is None:\n",
    "        _, axes = plt.subplots(1, 1, figsize=(8, 5))\n",
    "\n",
    "    axes.set_title(title)\n",
    "    if ylim is not None:\n",
    "        axes.set_ylim(*ylim)\n",
    "    axes.set_xlabel(\"Training examples\")\n",
    "    axes.set_ylabel(\"Score\")\n",
    "\n",
    "    train_sizes, train_scores, test_scores, fit_times, _ = \\\n",
    "        learning_curve(estimator, X, y, cv=cv, n_jobs=n_jobs,\n",
    "                       train_sizes=train_sizes,\n",
    "                       return_times=True)\n",
    "    train_scores_mean = np.mean(train_scores, axis=1)\n",
    "    train_scores_std = np.std(train_scores, axis=1)\n",
    "    test_scores_mean = np.mean(test_scores, axis=1)\n",
    "    test_scores_std = np.std(test_scores, axis=1)\n",
    "    fit_times_mean = np.mean(fit_times, axis=1)\n",
    "    fit_times_std = np.std(fit_times, axis=1)\n",
    "\n",
    "    # Plot learning curve\n",
    "    axes.grid()\n",
    "    axes.fill_between(train_sizes, train_scores_mean - train_scores_std,\n",
    "                         train_scores_mean + train_scores_std, alpha=0.1,\n",
    "                         color=\"r\")\n",
    "    axes.fill_between(train_sizes, test_scores_mean - test_scores_std,\n",
    "                         test_scores_mean + test_scores_std, alpha=0.1,\n",
    "                         color=\"g\")\n",
    "    axes.plot(train_sizes, train_scores_mean, 'o-', color=\"r\",\n",
    "                 label=\"Training score\")\n",
    "    axes.plot(train_sizes, test_scores_mean, 'o-', color=\"g\",\n",
    "                 label=\"Cross-validation score\")\n",
    "    axes.legend(loc=\"best\")\n",
    "\n",
    "    return plt"
   ]
  },
  {
   "cell_type": "code",
   "execution_count": null,
   "metadata": {},
   "outputs": [
    {
     "data": {
      "image/png": "[encoded data removed]",
      "text/plain": [
       "<Figure size 576x360 with 1 Axes>"
      ]
     },
     "metadata": {
      "needs_background": "light"
     },
     "output_type": "display_data"
    }
   ],
   "source": [
    "title = \"Learning Curves (Multiple Layer Perceptron)\"\n",
    "\n",
    "# Cross validation with 5 iterations each time with 20% data \n",
    "# randomly selected as a validation set.\n",
    "cv = ShuffleSplit(n_splits=5, test_size=0.2, random_state=0)\n",
    "\n",
    "estimator = MLPClassifier()\n",
    "plot_learning_curve(estimator, title, train_with4.iloc[:,:-1], train_with4.iloc[:,-1], ylim=(0.7, 1.01),\n",
    "                    cv=cv, n_jobs=-1)\n",
    "\n",
    "plt.show()"
   ]
  },
  {
   "cell_type": "code",
   "execution_count": null,
   "metadata": {},
   "outputs": [],
   "source": []
  }
 ],
 "metadata": {
  "kernelspec": {
   "display_name": "base",
   "language": "python",
   "name": "python3"
  },
  "language_info": {
   "codemirror_mode": {
    "name": "ipython",
    "version": 3
   },
   "file_extension": ".py",
   "mimetype": "text/x-python",
   "name": "python",
   "nbconvert_exporter": "python",
   "pygments_lexer": "ipython3",
   "version": "3.9.7"
  },
  "orig_nbformat": 4,
  "vscode": {
   "interpreter": {
    "hash": "5c29e2f0a8c5ccd5121c2804dade5066f41e02766fa51037c29f686bdb83b815"
   }
  }
 },
 "nbformat": 4,
 "nbformat_minor": 2
}
