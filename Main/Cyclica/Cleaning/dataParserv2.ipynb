{
 "cells": [
  {
   "cell_type": "code",
   "execution_count": 2,
   "metadata": {},
   "outputs": [],
   "source": [
    "import pandas\n",
    "import category_encoders as ce\n",
    "\n",
    "df = pandas.read_csv(\"../DataSet/af2_dataset_training_labeled.csv\")"
   ]
  },
  {
   "cell_type": "code",
   "execution_count": 3,
   "metadata": {},
   "outputs": [],
   "source": [
    "# Convert feature true/false -> 1/0\n",
    "binaryDataLst=['feat_A', 'feat_C', 'feat_D', 'feat_E', 'feat_F', 'feat_G', 'feat_H', 'feat_I', 'feat_K', 'feat_L', 'feat_M', 'feat_N', 'feat_P', 'feat_Q', 'feat_R',\n",
    "               'feat_S', 'feat_T', 'feat_V', 'feat_W', 'feat_Y', 'feat_DSSP_H', 'feat_DSSP_B', 'feat_DSSP_E', 'feat_DSSP_G', 'feat_DSSP_I', 'feat_DSSP_T', 'feat_DSSP_S']\n",
    "\n",
    "ram2 = df[binaryDataLst].astype('int')"
   ]
  },
  {
   "cell_type": "code",
   "execution_count": 4,
   "metadata": {},
   "outputs": [],
   "source": [
    "# Convert entry to a set of range number\n",
    "unit_range = df[\"entry\"].unique()\n",
    "Entry_list = df[\"entry\"].replace(unit_range, list(range(1, len(unit_range) + 1)), inplace=False)"
   ]
  },
  {
   "cell_type": "code",
   "execution_count": 5,
   "metadata": {},
   "outputs": [],
   "source": [
    "# construct min and max to normalize the already int column\n",
    "minVals = {}\n",
    "maxVals = {}\n",
    "val_col = ['feat_PHI', 'feat_PSI', 'feat_TAU', 'feat_THETA', 'feat_BBSASA', 'feat_SCSASA', 'feat_pLDDT', 'feat_DSSP_6', 'feat_DSSP_7', 'feat_DSSP_8',\n",
    "               'feat_DSSP_9', 'feat_DSSP_10', 'feat_DSSP_11', 'feat_DSSP_12', 'feat_DSSP_13', 'coord_X', 'coord_Y', 'coord_Z']\n",
    "val_list = df[val_col].join(Entry_list)\n",
    "val_col.append(\"entry\")\n",
    "normalized = pandas.DataFrame()\n",
    "for i in val_col:\n",
    "    minVals[i] = min(val_list[i])\n",
    "    maxVals[i] = max(val_list[i])\n",
    "    normalized[i] = (val_list[i] - minVals[i])/(maxVals[i] - minVals[i])"
   ]
  },
  {
   "cell_type": "code",
   "execution_count": 6,
   "metadata": {},
   "outputs": [],
   "source": [
    "#join for output\n",
    "output = ram2.join(normalized)"
   ]
  },
  {
   "cell_type": "code",
   "execution_count": 7,
   "metadata": {},
   "outputs": [
    {
     "name": "stderr",
     "output_type": "stream",
     "text": [
      "/tmp/ipykernel_195701/642717377.py:19: SettingWithCopyWarning: \n",
      "A value is trying to be set on a copy of a slice from a DataFrame\n",
      "\n",
      "See the caveats in the documentation: https://pandas.pydata.org/pandas-docs/stable/user_guide/indexing.html#returning-a-view-versus-a-copy\n",
      "  entry_indexs[i] = entry_indexs[i] / index_num[j]\n"
     ]
    }
   ],
   "source": [
    "## Dealing with the entry index:\n",
    "entry_indexs = df[\"entry_index\"]\n",
    "entrys = output[\"entry\"]\n",
    "index_num = {}\n",
    "entry_count = 1\n",
    "unque_type_ind = 0\n",
    "for i in range(1, len(entry_indexs)):\n",
    "    if entry_indexs[i] == 0:\n",
    "        index_num[unque_type_ind] = entry_count\n",
    "        entry_count = 1\n",
    "        unque_type_ind = unque_type_ind + 1\n",
    "        continue\n",
    "    entry_count = entry_count + 1\n",
    "index_num[unque_type_ind] = entry_count\n",
    "\n",
    "j = 0\n",
    "pos = 0\n",
    "for i in range(0, len(entry_indexs)):\n",
    "    entry_indexs[i] = entry_indexs[i] / index_num[j]\n",
    "    # print(index_num[j])\n",
    "    if index_num[j] == pos:\n",
    "        j = j + 1\n",
    "        pos = 0\n",
    "    pos = pos + 1"
   ]
  },
  {
   "cell_type": "code",
   "execution_count": 13,
   "metadata": {},
   "outputs": [
    {
     "data": {
      "text/plain": [
       "0         0\n",
       "1         0\n",
       "2         0\n",
       "3         0\n",
       "4         0\n",
       "         ..\n",
       "497161    0\n",
       "497162    0\n",
       "497163    0\n",
       "497164    0\n",
       "497165    0\n",
       "Name: y_Ligand, Length: 497166, dtype: int64"
      ]
     },
     "execution_count": 13,
     "metadata": {},
     "output_type": "execute_result"
    }
   ],
   "source": [
    "output1 = output.join(entry_indexs)\n",
    "output2 = output1.join(df[\"y_Ligand\"].astype('int'))\n"
   ]
  },
  {
   "cell_type": "code",
   "execution_count": 9,
   "metadata": {},
   "outputs": [],
   "source": [
    "output2.to_csv('../DataSet/normalized.csv')"
   ]
  },
  {
   "cell_type": "code",
   "execution_count": null,
   "metadata": {},
   "outputs": [],
   "source": []
  }
 ],
 "metadata": {
  "kernelspec": {
   "display_name": "Python 3",
   "language": "python",
   "name": "python3"
  },
  "language_info": {
   "codemirror_mode": {
    "name": "ipython",
    "version": 3
   },
   "file_extension": ".py",
   "mimetype": "text/x-python",
   "name": "python",
   "nbconvert_exporter": "python",
   "pygments_lexer": "ipython3",
   "version": "3.10.7"
  },
  "orig_nbformat": 4,
  "vscode": {
   "interpreter": {
    "hash": "916dbcbb3f70747c44a77c7bcd40155683ae19c65e1c03b4aa3499c5328201f1"
   }
  }
 },
 "nbformat": 4,
 "nbformat_minor": 2
}
