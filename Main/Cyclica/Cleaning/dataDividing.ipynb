{
 "cells": [
  {
   "cell_type": "code",
   "execution_count": 1,
   "metadata": {},
   "outputs": [],
   "source": [
    "## Input: Make sure there is a normalized4.csv and normalized20.csv (refere to dataParserv4) inside the DataSet folder\n",
    "## Output: Two groups of dataset:\n",
    "##      Group 1 : with4_train.csv & with4_valid.csv\n",
    "##          These two csvs include 4 caterogries of amino acid (PosCharge, NegChrg, Pol, NonPol)\n",
    "##      Group 2 : with20_train.csv & with20_valid.csv\n",
    "##          These two csvs use the amino acids types(A,G,T, etc.) instead\n",
    "\n",
    "import pandas as pd\n",
    "import numpy as np\n",
    "from sklearn.model_selection import train_test_split"
   ]
  },
  {
   "cell_type": "code",
   "execution_count": 2,
   "metadata": {},
   "outputs": [],
   "source": [
    "df_with4 = pd.read_csv(\"../DataSet/normalized4.csv\")\n",
    "df_with20 = pd.read_csv(\"../DataSet/normalized20.csv\")\n",
    "\n",
    "# get those rows whose y_Ligand is true\n",
    "trueRow_with4 = df_with4.loc[df_with4['y_Ligand'] == True]\n",
    "trueRow_with20 = df_with20.loc[df_with20['y_Ligand'] == True]\n",
    "\n",
    "falseRow_with4 = df_with4.loc[df_with4['y_Ligand'] == False]\n",
    "falseRow_with20 = df_with20.loc[df_with20['y_Ligand'] == False]\n",
    "\n",
    "#divide into train and validation sets\n",
    "trueRow_with4_train, trueRow_with4_valid = train_test_split(trueRow_with4, test_size = 0.1, random_state = 214)\n",
    "trueRow_with20_train, trueRow_with20_valid = train_test_split(trueRow_with20, test_size = 0.1, random_state = 214)\n",
    "falseRow_with4_train, falseRow_with4_valid = train_test_split(falseRow_with4, test_size = 0.1, random_state = 214)\n",
    "falseRow_with20_train, falseRow_with20_valid = train_test_split(falseRow_with20, test_size = 0.1, random_state = 214)\n",
    "\n",
    "# Duplicate each row whose y_ligand is True 26 times\n",
    "trueRow_with20_train_dup = pd.concat([trueRow_with20_train] * 26, ignore_index=True)\n",
    "trueRow_with20_valid_dup = pd.concat([trueRow_with20_valid] * 26, ignore_index=True)\n",
    "trueRow_with4_train_dup = pd.concat([trueRow_with4_train] * 26, ignore_index=True)\n",
    "trueRow_with4_valid_dup = pd.concat([trueRow_with4_valid] * 26, ignore_index=True)\n",
    "\n",
    "\n",
    "# Concatenate it with the original dataframe\n",
    "with4_train = pd.concat([trueRow_with4_train_dup, falseRow_with4_train], ignore_index=True)\n",
    "with4_valid = pd.concat([trueRow_with4_valid_dup, falseRow_with4_valid], ignore_index=True)\n",
    "with20_train = pd.concat([trueRow_with20_train_dup, falseRow_with20_train], ignore_index=True)\n",
    "with20_valid = pd.concat([trueRow_with20_valid_dup, falseRow_with20_valid], ignore_index=True)"
   ]
  },
  {
   "cell_type": "code",
   "execution_count": 3,
   "metadata": {},
   "outputs": [
    {
     "name": "stdout",
     "output_type": "stream",
     "text": [
      "Expect both to be zero.\n",
      "Actual:0 and 0\n"
     ]
    }
   ],
   "source": [
    "#sanity check, make sure no leakage(i.e. no train data is inside the validation set and vice versa)\n",
    "with4_intersect = pd.merge(trueRow_with4_valid_dup,falseRow_with4_valid, how=\"inner\")\n",
    "with20_intersect = pd.merge(trueRow_with4_valid_dup,falseRow_with4_valid, how=\"inner\")\n",
    "\n",
    "A, B = with4_intersect.shape[0], with20_intersect.shape[0]\n",
    "print(f\"Expect both to be zero.\\nActual:{A} and {B}\")"
   ]
  },
  {
   "cell_type": "code",
   "execution_count": 4,
   "metadata": {},
   "outputs": [],
   "source": [
    "with4_train.to_csv(\"../DataSet/with4_train.csv\")\n",
    "with4_valid.to_csv(\"../DataSet/with4_valid.csv\")\n",
    "with20_train.to_csv(\"../DataSet/with20_train.csv\")\n",
    "with20_valid.to_csv(\"../DataSet/with20_valid.csv\")"
   ]
  }
 ],
 "metadata": {
  "kernelspec": {
   "display_name": "base",
   "language": "python",
   "name": "python3"
  },
  "language_info": {
   "codemirror_mode": {
    "name": "ipython",
    "version": 3
   },
   "file_extension": ".py",
   "mimetype": "text/x-python",
   "name": "python",
   "nbconvert_exporter": "python",
   "pygments_lexer": "ipython3",
   "version": "3.9.7"
  },
  "orig_nbformat": 4,
  "vscode": {
   "interpreter": {
    "hash": "5c29e2f0a8c5ccd5121c2804dade5066f41e02766fa51037c29f686bdb83b815"
   }
  }
 },
 "nbformat": 4,
 "nbformat_minor": 2
}
