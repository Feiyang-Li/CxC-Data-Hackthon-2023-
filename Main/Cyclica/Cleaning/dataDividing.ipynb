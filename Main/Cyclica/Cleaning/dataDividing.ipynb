{
 "cells": [
  {
   "cell_type": "code",
   "execution_count": null,
   "metadata": {},
   "outputs": [],
   "source": [
    "import pandas as pd\n",
    "from sklearn.model_selection import train_test_split"
   ]
  },
  {
   "cell_type": "code",
   "execution_count": null,
   "metadata": {},
   "outputs": [],
   "source": [
    "df_with4 = pd.read_csv(\"../DataSet/normalized4.csv\")\n",
    "df_with20 = pd.read_csv(\"../DataSet/normalized20.csv\")\n",
    "\n",
    "# get those rows whose y_Ligand is true\n",
    "trueRow_with4 = df_with4.loc[df_with4['y_Ligand'] == True]\n",
    "trueRow_with20 = df_with20.loc[df_with20['y_Ligand'] == True]\n",
    "\n",
    "falseRow_with4 = df_with4.loc[df_with4['y_Ligand'] == False]\n",
    "falseRow_with20 = df_with20.loc[df_with20['y_Ligand'] == False]\n",
    "\n",
    "#divide into train and validation sets\n",
    "trueRow_with4_train, trueRow_with4_valid = train_test_split(trueRow_with4, test_size = 0.1, random_state = 214)\n",
    "trueRow_with20_train, trueRow_with20_valid = train_test_split(trueRow_with20, test_size = 0.1, random_state = 214)\n",
    "falseRow_with4_train, falseRow_with4_valid = train_test_split(falseRow_with4, test_size = 0.1, random_state = 214)\n",
    "falseRow_with20_train, falseRow_with20_valid = train_test_split(falseRow_with20, test_size = 0.1, random_state = 214)\n",
    "\n",
    "# Duplicate each row whose y_ligand is True 26 times\n",
    "trueRow_with20_train_dup = trueRow_with4_train * 26\n",
    "trueRow_with20_valid_dup = trueRow_with20_valid * 26\n",
    "trueRow_with4_train_dup = trueRow_with4_train * 26\n",
    "trueRow_with4_valid_dup = trueRow_with4_valid * 26\n",
    "\n",
    "\n",
    "# Concatenate it with the original dataframe\n",
    "with4_train = pd.concat([trueRow_with4_train_dup, falseRow_with4_train], ignore_index=True)\n",
    "with4_valid = pd.concat([trueRow_with4_valid_dup, falseRow_with4_valid], ignore_index=True)\n",
    "with4_train = pd.concat([trueRow_with4_train_dup, falseRow_with4_train], ignore_index=True)\n",
    "with4_train = pd.concat([trueRow_with4_train_dup, falseRow_with4_train], ignore_index=True)"
   ]
  }
 ],
 "metadata": {
  "kernelspec": {
   "display_name": "base",
   "language": "python",
   "name": "python3"
  },
  "language_info": {
   "name": "python",
   "version": "3.9.7"
  },
  "orig_nbformat": 4,
  "vscode": {
   "interpreter": {
    "hash": "5c29e2f0a8c5ccd5121c2804dade5066f41e02766fa51037c29f686bdb83b815"
   }
  }
 },
 "nbformat": 4,
 "nbformat_minor": 2
}
