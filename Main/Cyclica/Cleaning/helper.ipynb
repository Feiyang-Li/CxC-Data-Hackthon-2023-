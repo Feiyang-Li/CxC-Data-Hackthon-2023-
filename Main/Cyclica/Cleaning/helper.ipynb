{
 "cells": [
  {
   "cell_type": "code",
   "execution_count": 1,
   "metadata": {},
   "outputs": [],
   "source": [
    "import pandas\n",
    "df = pandas.read_csv(\"input.csv\")"
   ]
  },
  {
   "cell_type": "code",
   "execution_count": null,
   "metadata": {},
   "outputs": [],
   "source": [
    "# getting the min max value of each one so we can hard-code later, as we cannot gurantee that the data for test case and train set are the same\n",
    "nbrDataLst = ['feat_PHI', 'feat_PSI', 'feat_TAU', 'feat_THETA', 'feat_BBSASA', 'feat_SCSASA', 'feat_pLDDT', 'feat_DSSP_6', 'feat_DSSP_7', 'feat_DSSP_8',\n",
    "               'feat_DSSP_9', 'feat_DSSP_10', 'feat_DSSP_11', 'feat_DSSP_12', 'feat_DSSP_13', 'coord_X', 'coord_Y', 'coord_Z']\n",
    "for i in nbrDataLst:\n",
    "    print(\"minVals['\" + i + \"'] = \" + str(min(df[i])))\n",
    "for i in nbrDataLst:\n",
    "    print(\"maxVals['\" + i + \"'] = \" + str(max(df[i])))\n",
    "    "
   ]
  },
  {
   "cell_type": "code",
   "execution_count": 4,
   "metadata": {},
   "outputs": [
    {
     "name": "stdout",
     "output_type": "stream",
     "text": [
      "{'GEMI5': 0, 'ACHB4': 1, 'RFC2': 2, 'THIO': 3, 'ADH7': 4, 'DPYL5': 5, 'SRPRA': 6, 'ATTY': 7, 'TN13B': 8, 'ATLA1': 9, 'GALE': 10, 'BUB1B': 11, 'PRS6A': 12, 'SMYD3': 13, 'ARP2': 14, 'IL1B': 15, 'MDHM': 16, 'CACO2': 17, 'SRP54': 18, 'GRM3': 19, 'RIOK1': 20, 'AOFA': 21, 'ORC1': 22, 'NLRP3': 23, 'ALAT2': 24, 'RIOK2': 25, 'ACADV': 26, 'NUMA1': 27, 'GBP1': 28, 'TKT': 29, 'KDM1B': 30, 'TNPO1': 31, 'DPOLB': 32, 'CBPA2': 33, 'PYC': 34, 'MCLN1': 35, 'UCHL1': 36, 'SCAR5': 37, 'PE2R3': 38, 'S14L2': 39, 'AT2A2': 40, 'TAF2': 41, 'DHTK1': 42, 'PHF8': 43, 'HMDH': 44, 'AMPE': 45, 'IVD': 46, 'MRP1': 47, 'R144A': 48, 'METH': 49, 'CPSM': 50, 'ACACB': 51, 'MACD2': 52, 'FFAR1': 53, 'ZN224': 54, 'RFC1': 55, 'M2GD': 56, 'SELB': 57, 'LRRT2': 58, 'CMC2': 59, 'IF5': 60, 'CD33': 61, 'KCAB2': 62, 'SRR': 63, 'GCST': 64, 'DHSO': 65, 'BUB1': 66, 'REV1': 67, 'FCL': 68, 'GALK2': 69, 'NCOA2': 70, 'HARS1': 71, 'NF1': 72, 'CRYL1': 73, 'HASP': 74, 'CH60': 75, 'UBA5': 76, 'DCHS': 77, 'APOE': 78, 'MEPCE': 79, 'HCDH': 80, 'STAP1': 81, 'XPO1': 82, 'IDH3A': 83, 'PSB1': 84, 'GALK1': 85, 'PTGR2': 86, 'STPAP': 87, 'TCPE': 88, 'MSH2': 89, 'ANM5': 90, 'ABCF1': 91, 'HIF1N': 92, 'SUCB2': 93, 'ATX3': 94, 'ABCG2': 95, 'IRAK3': 96, 'CPSF3': 97, 'ABCD4': 98, 'NMDZ1': 99, 'DDC': 100, 'MTRR': 101, 'PDIA1': 102, 'CD22': 103, 'CP46A': 104, 'PUR2': 105, 'ACD11': 106, 'ARL2': 107, 'RAB31': 108, 'ULK2': 109, 'TIF1A': 110, 'RAB18': 111, 'TTBK1': 112, 'MKNK2': 113, 'ROS1': 114, 'PEPC': 115, 'GP1BA': 116, 'SMCA2': 117, 'RAB30': 118, 'KGP1': 119, 'TEAD1': 120, 'MRCKB': 121, 'M4K1': 122, 'GRK5': 123, 'RIT1': 124, 'PPIB': 125, 'TRAP1': 126, 'ARF6': 127, 'NOS2': 128, 'RHOG': 129, 'AVR2A': 130, 'RAP1A': 131, 'P53': 132, 'RAN': 133, 'TRYB2': 134, 'PTPRN': 135, 'RM37': 136, 'TPST1': 137, 'AAK1': 138, 'M4K4': 139, 'EFMT3': 140, 'SLK': 141, 'MARK2': 142, 'CDK6': 143, 'RAB21': 144, 'KS6B1': 145, 'ARL1': 146, 'RAC2': 147, 'RHOB': 148, 'STK38': 149, 'TGFR1': 150, 'CATG': 151, 'DYRK2': 152, '2A5G': 153, 'AAPK1': 154, 'M3K12': 155, 'CSKP': 156, 'E2AK2': 157, 'GRIA2': 158, 'RHOU': 159, 'ST2A1': 160, 'GRM7': 161, 'GRHPR': 162, 'TRI37': 163, 'RON': 164, 'PKN1': 165, 'RAB1A': 166, 'PAXI': 167, 'KIF3B': 168, 'CXD2': 169, 'RET': 170, 'MP2K4': 171, 'ST1A2': 172, 'TBB5': 173, 'GRAM': 174, 'KPCT': 175, 'TNKS1': 176, 'TNIK': 177, 'KS6A3': 178, 'JAK3': 179, 'KIF9': 180, 'ACK1': 181, 'ACBD7': 182, 'RAP1B': 183, 'ULK1': 184, 'EPHB3': 185, 'WEE1': 186, 'GLRA3': 187, 'PAK4': 188, 'OXSR1': 189, 'RND1': 190, 'RAB43': 191, 'ROCK1': 192, 'ARK72': 193, 'HCK': 194, 'NFS1': 195, 'GIMA4': 196, 'QPCTL': 197, 'GNAI3': 198, 'KCC1G': 199, 'KIF2C': 200, 'NUDT9': 201, 'CLK3': 202, 'IKKB': 203, 'PGAM1': 204, 'LIMK1': 205, 'DNM1L': 206, 'H2AV': 207, 'GIMA7': 208, 'DDX17': 209, 'ERI3': 210, 'PHF1': 211, 'TIE2': 212, 'ATRX': 213, 'TYK2': 214, 'ACHB2': 215, 'HMOX1': 216, 'EME1': 217, 'TIAM1': 218, 'FLT3': 219, 'FGFR4': 220, 'RAB7L': 221, 'LG3BP': 222, 'PAK6': 223, 'CBR3': 224, 'REM2': 225, 'ARK73': 226, 'KCC2B': 227, 'AMPN': 228, 'CHK2': 229, 'STRAA': 230, 'ARL5B': 231, 'M3K14': 232, 'CNOT3': 233, 'NR5A2': 234, 'ADRB2': 235, 'TNS2': 236, 'KIF3C': 237, 'GMPR1': 238, 'KIF7': 239, 'TA2R': 240, 'M3K20': 241, 'DD19B': 242, 'KLF10': 243, 'SRPK2': 244, 'ILK': 245, 'GEM': 246, 'ST1A4': 247, 'MIB1': 248, 'DNM3A': 249, 'ST1A3': 250, 'MK12': 251, 'RB39B': 252, 'HTRA1': 253, 'GRP75': 254, 'CCNK': 255, 'H32': 256, 'AKT2': 257, 'RFC4': 258, 'PDK4': 259, 'MTDC': 260, 'EFMT4': 261, 'JAK1': 262, 'TGFR2': 263, 'KIFC3': 264, 'FGFR1': 265, 'DHB8': 266, 'MFN2': 267, 'AL1A3': 268, 'KAPCA': 269, 'BT3A1': 270, 'ROCK2': 271, 'KPCA': 272, 'BTK': 273, 'LEG2': 274, 'LCAP': 275, 'M3K9': 276, 'M3K8': 277, 'MERTK': 278, 'TBA1B': 279, 'FAK1': 280, 'ERBB3': 281, 'IGHG2': 282, 'MK11': 283, 'KLK3': 284, 'KS6A6': 285, 'CHK1': 286, 'SEPT9': 287, 'KKCC2': 288, 'PMGE': 289, 'OX2R': 290, 'ST1A1': 291, 'AK1C3': 292, 'EPHA3': 293, 'DHI1': 294, 'SEP12': 295, 'PAK1': 296, 'SAHH': 297, 'TTK': 298, 'SMN': 299, 'BMX': 300, 'IHH': 301, 'TRAD1': 302, 'KCC1D': 303, 'NNMT': 304, 'DDX3X': 305, 'BMPR2': 306, 'VRK2': 307, 'PIM1': 308, 'MAPK2': 309, 'RHEB': 310, 'HS90B': 311, 'HSP7C': 312, 'PKN2': 313, 'PAK5': 314, 'RNAS2': 315, 'SRPK1': 316, 'STK11': 317, 'DHB14': 318, 'CASP3': 319, 'PI42A': 320, 'FKB14': 321, 'IBP4': 322, 'KSYK': 323, 'KIF15': 324, 'AL1A2': 325, 'P85A': 326, 'AL1A1': 327, 'FA9': 328, 'MACF1': 329, 'STK4': 330, 'KI18A': 331, 'RAC3': 332, 'F16P2': 333, 'KPYR': 334, 'AFG32': 335, 'SERA': 336, 'FKBP8': 337, 'KCC1A': 338, 'MK09': 339, 'REQU': 340, 'MYH14': 341, 'PLK3': 342, 'NTRK1': 343, 'CMA1': 344, 'TNI3K': 345, 'DLG4': 346, 'IGF1R': 347, 'RIPK2': 348, 'ZGPAT': 349, 'ENL': 350, 'KPCI': 351, 'IRAK1': 352, 'FIGL1': 353, 'INSR': 354, 'SCMC1': 355, 'PANK2': 356, '1433B': 357, 'PK3CG': 358, 'GPD1L': 359, 'MELK': 360, 'RASK': 361, 'CBPA1': 362, 'DYN1': 363, 'ABL1': 364, 'OLR1': 365, 'ECP': 366, 'TSP2': 367, 'EPHB1': 368, 'KIF2A': 369, 'ADAM8': 370, 'MMP2': 371, 'STK10': 372, 'GCR': 373, 'ULK4': 374, 'HS71L': 375, 'CDK16': 376, 'FEV': 377, 'DYN3': 378, 'FES': 379, '5HT2C': 380, 'SETD2': 381, 'PRS6B': 382, 'LX15B': 383, 'SIR3': 384, 'GRP1': 385, 'DYR1A': 386, 'PTN1': 387, 'FA12': 388, 'GLYC': 389, 'DDX53': 390, 'LOX12': 391, 'MET': 392, 'JAK2': 393, 'CARM1': 394, 'RECQ5': 395, 'GRM1': 396, 'FGFR2': 397, 'CDK2': 398, 'CBX8': 399, 'GRIK1': 400, 'KDM4E': 401, 'WNK3': 402, 'TPH2': 403, 'AK1C4': 404, 'AK1C2': 405, 'PGFRA': 406, 'M3K21': 407, 'CDK13': 408, 'CLK4': 409, 'EAA1': 410, 'ACTB': 411, 'KIT': 412, 'STK3': 413, 'HSDL2': 414, 'S1A7A': 415, 'HUWE1': 416, 'GBRL2': 417, 'GRM2': 418, 'TRI34': 419, 'EPHA2': 420, 'RU2B': 421, 'NSUN4': 422, 'PROC': 423, 'PRS8': 424, 'NEBL': 425, 'G3P': 426, 'AK1C1': 427, 'KIF5A': 428, 'KDM4D': 429, 'DAPK1': 430, 'HDAC1': 431, 'NEK1': 432, 'BRAF': 433, 'ARP3': 434, 'RIPK1': 435, 'ACTG': 436, 'EFNMT': 437, 'GMPR2': 438, 'CD1C': 439, 'PGDH': 440, 'ATS4': 441, 'ANM8': 442, 'KTNA1': 443, 'PRGR': 444, 'ESR1': 445, 'KLK8': 446, 'ACES': 447, 'PLK2': 448, 'DHX15': 449, '1433G': 450, 'VGFR1': 451, 'F261': 452, 'GGA3': 453, 'AURKB': 454, 'PNMT': 455, 'MARK4': 456, 'VGFR2': 457, 'ASAH1': 458, 'ST32A': 459, 'PANK3': 460, 'PTN18': 461, 'IF4A1': 462, 'THRB': 463, 'KIF1A': 464, 'PYRG1': 465, 'SAHH3': 466, 'LMBL1': 467, 'MLKL': 468, 'ACADM': 469, 'FA10': 470, 'DCE1': 471, 'PTN13': 472, 'EFCE2': 473, 'ARL5A': 474, 'M4K3': 475, 'ELNE': 476, 'ERN1': 477, 'CAN3': 478, 'ITB8': 479, 'NMT2': 480, 'ENPP5': 481, 'P73': 482, 'MCM3': 483, 'CP17A': 484, 'KIF22': 485, 'CDKL3': 486, 'ERBB4': 487, 'AF9': 488, 'TLK2': 489, 'MK03': 490, 'CNR1': 491, 'FCN2': 492, 'KDM4C': 493, 'NB5R4': 494, 'RAB10': 495, 'AAAT': 496, 'PDPK1': 497, 'ATS1': 498, 'EHMT2': 499, 'DHX8': 500, 'SIR1': 501, 'SIR2': 502, 'OPRD': 503, 'KCC4': 504, 'MCR': 505, 'PYRG2': 506, 'MMP16': 507, 'TBX5': 508, 'KIF11': 509, 'ATAD2': 510, 'SPIN1': 511, 'ATLA3': 512, 'KDM1A': 513, 'CP2AD': 514, 'MX1': 515, 'IPSP': 516, 'ADA2B': 517, 'GWL': 518, 'BMR1B': 519, 'PRSS8': 520, 'HEXA': 521, 'TCO1': 522, 'KAT6B': 523, 'DDX5': 524, 'CATF': 525, 'MMP8': 526, 'WNK1': 527, 'ANXA3': 528, 'DHX9': 529, 'GRIK2': 530, 'ATS5': 531, 'BACE1': 532, 'DNM3B': 533, 'NR1H4': 534, 'GIMA2': 535, 'DUS22': 536, 'DRD4': 537, 'ST14': 538, 'ABCB6': 539, 'CNDP2': 540, 'VASH1': 541, 'HXB13': 542, 'KMT5B': 543, 'RAB5A': 544, 'NEK2': 545, 'KC1E': 546, 'MP2K6': 547, 'CNR2': 548, 'PYGL': 549, 'MLH1': 550, 'TTBK2': 551, '5HT2A': 552, 'ANM6': 553, 'DDX47': 554, 'RBM38': 555, 'HDAC4': 556, 'SSDH': 557, 'NMT1': 558, 'EPHA7': 559, 'FAK2': 560, 'ENPL': 561, 'MMP9': 562, 'GAK': 563, 'DHRS4': 564, 'CMTR1': 565, 'MTR1B': 566, 'PDK3': 567, 'LRRK2': 568, 'KPYM': 569, 'SAHH2': 570, 'EGFR': 571, 'TVB9': 572, 'PAR14': 573, 'PAPS1': 574, 'ABCC8': 575, 'MITOS': 576, 'KDM4A': 577, 'DDX52': 578, 'HSP76': 579, 'SMYD2': 580, 'GRAA': 581, 'ACLY': 582, 'AOXA': 583, 'PARP1': 584, 'DRD3': 585, 'ROR1': 586, 'ACVL1': 587, 'IMDH2': 588, 'MSH6': 589, 'CLK1': 590, 'CANB1': 591, 'CHLE': 592, 'PTN9': 593, 'CBPB2': 594, 'DHB4': 595, 'HS90A': 596, 'CPEB1': 597, 'SMCA5': 598, 'PAPS2': 599, 'ERAP1': 600, 'GLT10': 601, 'BRD1': 602, 'PDE5A': 603, 'CASR': 604, 'IMPA2': 605, 'DCLK1': 606, 'HSP72': 607, 'FYN': 608, 'EGLN1': 609, 'PGH2': 610, 'KDM2A': 611, 'STAC3': 612, 'KAT6A': 613, 'POGZ': 614, 'KSR2': 615, 'DGUOK': 616, 'HMR1': 617, 'CP1A2': 618, 'ANDR': 619, 'KS6A5': 620, 'MCM7': 621, 'ULK3': 622, 'WRN': 623, 'KDM7A': 624, 'ECE1': 625, 'PH4H': 626, 'F262': 627, 'TAF3': 628, 'FOLH1': 629, 'HS71A': 630, 'HDAC2': 631, 'ARGI2': 632, 'IFIH1': 633, 'ACM4': 634, 'GRM5': 635, 'KDM6A': 636, 'SORL': 637, 'KS6A1': 638, 'SUV92': 639, 'PSB5': 640, 'PDE3B': 641, 'MLP3B': 642, 'HNF1B': 643, 'C1TC': 644, 'DDX20': 645, 'TBB3': 646, 'GNAI1': 647, 'PANK1': 648, 'CD1B': 649, 'DNMT1': 650, 'HMBX1': 651, 'PPIF': 652, 'DMD': 653, 'EST1': 654, 'PSB9': 655, 'MASP2': 656, 'ABCBA': 657, 'H2B1C': 658, 'GTR3': 659, 'HDAC8': 660, 'CHIA': 661, 'EED': 662, 'DRD2': 663, 'GLSK': 664, 'MYO10': 665, 'CP1B1': 666, 'TRFE': 667, 'PLMN': 668, 'DCR1A': 669, 'PKCB1': 670, 'PRS57': 671, 'IKKA': 672, 'NDOR1': 673, 'CLAT': 674, 'DPP8': 675, 'CP11A': 676, 'HS71B': 677, 'PK3CA': 678, 'CHD4': 679, 'NOS3': 680, 'MDR3': 681, 'ANGE2': 682, 'IDHP': 683, 'CISD1': 684, 'B4GT7': 685, 'PYGO2': 686, 'PD2R2': 687, 'PYGB': 688, 'DPF3': 689, 'IP3KA': 690, 'UTY': 691, 'ENPP2': 692, 'UBP30': 693, 'RIOX1': 694, 'ECE2': 695, 'GLT12': 696, 'STT3A': 697, 'NSD2': 698, 'FAS': 699, 'TRFL': 700, 'KC1A': 701, 'DUS10': 702, 'PTN7': 703, 'NOS1': 704, 'STT3B': 705, 'PHF2': 706, 'LAT1': 707, 'DCE2': 708, 'GALT4': 709, 'GTR1': 710, 'MIRO2': 711, 'SYMC': 712, 'PYGM': 713, 'MLP3A': 714, 'MCM4': 715, 'MEIS1': 716, 'MK13': 717, 'PPP5': 718, 'PECR': 719, 'MCM2': 720, 'IP3KC': 721, 'AOC3': 722, }\n"
     ]
    }
   ],
   "source": [
    "# getting the full list of entry\n",
    "strr = \"{\"\n",
    "for ct, i in enumerate(df[\"entry\"].unique()):\n",
    "    strr = strr + \"'\" + i + \"': \" + str(ct) + \", \"\n",
    "strr = strr + \"}\"\n",
    "print(strr)"
   ]
  }
 ],
 "metadata": {
  "kernelspec": {
   "display_name": "base",
   "language": "python",
   "name": "python3"
  },
  "language_info": {
   "codemirror_mode": {
    "name": "ipython",
    "version": 3
   },
   "file_extension": ".py",
   "mimetype": "text/x-python",
   "name": "python",
   "nbconvert_exporter": "python",
   "pygments_lexer": "ipython3",
   "version": "3.9.13"
  },
  "orig_nbformat": 4,
  "vscode": {
   "interpreter": {
    "hash": "35fae8ea3189a1b1ae8055ad8bdfd6d6d0e3f35eb71d662147cdd1c256626eb4"
   }
  }
 },
 "nbformat": 4,
 "nbformat_minor": 2
}
