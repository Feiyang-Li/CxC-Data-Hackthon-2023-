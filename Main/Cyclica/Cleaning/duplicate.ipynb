{
 "cells": [
  {
   "cell_type": "code",
   "execution_count": 1,
   "metadata": {},
   "outputs": [],
   "source": [
    "import pandas as pd"
   ]
  },
  {
   "cell_type": "code",
   "execution_count": 2,
   "metadata": {},
   "outputs": [],
   "source": [
    "df_with4 = pd.read_csv(\"../DataSet/normalized4.csv\")\n",
    "df_with20 = pd.read_csv(\"../DataSet/normalized20.csv\")\n",
    "\n",
    "# Duplicate each row whose y_ligand is True 26 times\n",
    "with4_temp = pd.concat([df_with4.loc[df_with4['y_Ligand'] == True] for _ in range(26)], ignore_index=True)\n",
    "with20_temp = pd.concat([df_with20.loc[df_with20['y_Ligand'] == True] for _ in range(26)], ignore_index=True)\n",
    "\n",
    "# Concatenate it with the original dataframe\n",
    "df_with4_dup = pd.concat([df_with4, with4_temp], ignore_index = True)\n",
    "df_with20_dup = pd.concat([df_with20, with20_temp], ignore_index = True)"
   ]
  },
  {
   "cell_type": "code",
   "execution_count": 3,
   "metadata": {},
   "outputs": [
    {
     "data": {
      "text/plain": [
       "False"
      ]
     },
     "execution_count": 3,
     "metadata": {},
     "output_type": "execute_result"
    }
   ],
   "source": [
    "#sanity check\n",
    "df_with4.loc[df_with4['y_Ligand'] == True].shape[0] * 48 + df_with4.shape[0] == df_with4_dup.shape[0]"
   ]
  },
  {
   "cell_type": "code",
   "execution_count": 4,
   "metadata": {},
   "outputs": [
    {
     "data": {
      "text/plain": [
       "0.49257007517684004"
      ]
     },
     "execution_count": 4,
     "metadata": {},
     "output_type": "execute_result"
    }
   ],
   "source": [
    "# now about half of the row has y_ligand = True\n",
    "df_with4_dup[\"y_Ligand\"].mean()"
   ]
  },
  {
   "cell_type": "code",
   "execution_count": 5,
   "metadata": {},
   "outputs": [],
   "source": [
    "df_with4_dup.to_csv(\"../DataSet/normalized4_dup.csv\")\n",
    "df_with20_dup.to_csv(\"../DataSet/normalized20_dup.csv\")"
   ]
  }
 ],
 "metadata": {
  "kernelspec": {
   "display_name": "base",
   "language": "python",
   "name": "python3"
  },
  "language_info": {
   "codemirror_mode": {
    "name": "ipython",
    "version": 3
   },
   "file_extension": ".py",
   "mimetype": "text/x-python",
   "name": "python",
   "nbconvert_exporter": "python",
   "pygments_lexer": "ipython3",
   "version": "3.9.7"
  },
  "orig_nbformat": 4,
  "vscode": {
   "interpreter": {
    "hash": "5c29e2f0a8c5ccd5121c2804dade5066f41e02766fa51037c29f686bdb83b815"
   }
  }
 },
 "nbformat": 4,
 "nbformat_minor": 2
}
